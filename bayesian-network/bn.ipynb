{
  "nbformat": 4,
  "nbformat_minor": 0,
  "metadata": {
    "colab": {
      "name": "BN.ipynb",
      "provenance": [],
      "collapsed_sections": []
    },
    "kernelspec": {
      "display_name": "Python 3",
      "name": "python3"
    },
    "language_info": {
      "name": "python"
    }
  },
  "cells": [
    {
      "cell_type": "code",
      "metadata": {
        "colab": {
          "base_uri": "https://localhost:8080/"
        },
        "id": "5jlt5ylTBrds",
        "outputId": "8ec2159f-5ebb-4ce6-f4ee-e0cf9ee6e875"
      },
      "source": [
        "!pip install pgmpy"
      ],
      "execution_count": null,
      "outputs": [
        {
          "name": "stdout",
          "output_type": "stream",
          "text": [
            "Collecting pgmpy\n",
            "\u001b[?25l  Downloading https://files.pythonhosted.org/packages/a3/0e/d9fadbfaa35e010c04d43acd3ae9fbefec98897dd7d61a6b7eb5a8b34072/pgmpy-0.1.14-py3-none-any.whl (331kB)\n",
            "\r\u001b[K     |█                               | 10kB 12.3MB/s eta 0:00:01\r\u001b[K     |██                              | 20kB 11.4MB/s eta 0:00:01\r\u001b[K     |███                             | 30kB 15.2MB/s eta 0:00:01\r\u001b[K     |████                            | 40kB 14.9MB/s eta 0:00:01\r\u001b[K     |█████                           | 51kB 16.0MB/s eta 0:00:01\r\u001b[K     |██████                          | 61kB 17.9MB/s eta 0:00:01\r\u001b[K     |███████                         | 71kB 19.0MB/s eta 0:00:01\r\u001b[K     |████████                        | 81kB 19.9MB/s eta 0:00:01\r\u001b[K     |█████████                       | 92kB 20.7MB/s eta 0:00:01\r\u001b[K     |█████████▉                      | 102kB 22.0MB/s eta 0:00:01\r\u001b[K     |██████████▉                     | 112kB 22.0MB/s eta 0:00:01\r\u001b[K     |███████████▉                    | 122kB 22.0MB/s eta 0:00:01\r\u001b[K     |████████████▉                   | 133kB 22.0MB/s eta 0:00:01\r\u001b[K     |█████████████▉                  | 143kB 22.0MB/s eta 0:00:01\r\u001b[K     |██████████████▉                 | 153kB 22.0MB/s eta 0:00:01\r\u001b[K     |███████████████▉                | 163kB 22.0MB/s eta 0:00:01\r\u001b[K     |████████████████▉               | 174kB 22.0MB/s eta 0:00:01\r\u001b[K     |█████████████████▉              | 184kB 22.0MB/s eta 0:00:01\r\u001b[K     |██████████████████▉             | 194kB 22.0MB/s eta 0:00:01\r\u001b[K     |███████████████████▊            | 204kB 22.0MB/s eta 0:00:01\r\u001b[K     |████████████████████▊           | 215kB 22.0MB/s eta 0:00:01\r\u001b[K     |█████████████████████▊          | 225kB 22.0MB/s eta 0:00:01\r\u001b[K     |██████████████████████▊         | 235kB 22.0MB/s eta 0:00:01\r\u001b[K     |███████████████████████▊        | 245kB 22.0MB/s eta 0:00:01\r\u001b[K     |████████████████████████▊       | 256kB 22.0MB/s eta 0:00:01\r\u001b[K     |█████████████████████████▊      | 266kB 22.0MB/s eta 0:00:01\r\u001b[K     |██████████████████████████▊     | 276kB 22.0MB/s eta 0:00:01\r\u001b[K     |███████████████████████████▊    | 286kB 22.0MB/s eta 0:00:01\r\u001b[K     |████████████████████████████▊   | 296kB 22.0MB/s eta 0:00:01\r\u001b[K     |█████████████████████████████▋  | 307kB 22.0MB/s eta 0:00:01\r\u001b[K     |██████████████████████████████▋ | 317kB 22.0MB/s eta 0:00:01\r\u001b[K     |███████████████████████████████▋| 327kB 22.0MB/s eta 0:00:01\r\u001b[K     |████████████████████████████████| 337kB 22.0MB/s \n",
            "\u001b[?25hRequirement already satisfied: scipy in /usr/local/lib/python3.7/dist-packages (from pgmpy) (1.4.1)\n",
            "Requirement already satisfied: statsmodels in /usr/local/lib/python3.7/dist-packages (from pgmpy) (0.10.2)\n",
            "Requirement already satisfied: numpy in /usr/local/lib/python3.7/dist-packages (from pgmpy) (1.19.5)\n",
            "Requirement already satisfied: pyparsing in /usr/local/lib/python3.7/dist-packages (from pgmpy) (2.4.7)\n",
            "Requirement already satisfied: pandas in /usr/local/lib/python3.7/dist-packages (from pgmpy) (1.1.5)\n",
            "Requirement already satisfied: scikit-learn in /usr/local/lib/python3.7/dist-packages (from pgmpy) (0.22.2.post1)\n",
            "Requirement already satisfied: networkx in /usr/local/lib/python3.7/dist-packages (from pgmpy) (2.5.1)\n",
            "Requirement already satisfied: tqdm in /usr/local/lib/python3.7/dist-packages (from pgmpy) (4.41.1)\n",
            "Requirement already satisfied: torch in /usr/local/lib/python3.7/dist-packages (from pgmpy) (1.9.0+cu102)\n",
            "Requirement already satisfied: joblib in /usr/local/lib/python3.7/dist-packages (from pgmpy) (1.0.1)\n",
            "Requirement already satisfied: patsy>=0.4.0 in /usr/local/lib/python3.7/dist-packages (from statsmodels->pgmpy) (0.5.1)\n",
            "Requirement already satisfied: pytz>=2017.2 in /usr/local/lib/python3.7/dist-packages (from pandas->pgmpy) (2018.9)\n",
            "Requirement already satisfied: python-dateutil>=2.7.3 in /usr/local/lib/python3.7/dist-packages (from pandas->pgmpy) (2.8.1)\n",
            "Requirement already satisfied: decorator<5,>=4.3 in /usr/local/lib/python3.7/dist-packages (from networkx->pgmpy) (4.4.2)\n",
            "Requirement already satisfied: typing-extensions in /usr/local/lib/python3.7/dist-packages (from torch->pgmpy) (3.7.4.3)\n",
            "Requirement already satisfied: six in /usr/local/lib/python3.7/dist-packages (from patsy>=0.4.0->statsmodels->pgmpy) (1.15.0)\n",
            "Installing collected packages: pgmpy\n",
            "Successfully installed pgmpy-0.1.14\n"
          ]
        }
      ]
    },
    {
      "cell_type": "code",
      "metadata": {
        "colab": {
          "base_uri": "https://localhost:8080/"
        },
        "id": "jzgxuPpEB8N2",
        "outputId": "6b97b94d-7f5d-4e1a-89d9-fc139d51adad"
      },
      "source": [
        "from google.colab import drive\n",
        "drive.mount('/content/drive')"
      ],
      "execution_count": null,
      "outputs": [
        {
          "name": "stdout",
          "output_type": "stream",
          "text": [
            "Mounted at /content/drive\n"
          ]
        }
      ]
    },
    {
      "cell_type": "code",
      "metadata": {
        "id": "vEgMV6juCnyY"
      },
      "source": [
        "network_file_name = 'drive/MyDrive/data/survey.bif'"
      ],
      "execution_count": null,
      "outputs": []
    },
    {
      "cell_type": "code",
      "metadata": {
        "id": "hzUykPrrBN7t"
      },
      "source": [
        "from pgmpy.readwrite import BIFReader\n",
        "import numpy as np\n",
        "\n",
        "reader = BIFReader(network_file_name)"
      ],
      "execution_count": null,
      "outputs": []
    },
    {
      "cell_type": "code",
      "metadata": {
        "colab": {
          "base_uri": "https://localhost:8080/"
        },
        "id": "7W2mjPbbC93p",
        "outputId": "15e70815-6584-428f-bcbc-8be7bee4751f"
      },
      "source": [
        "reader.get_values()"
      ],
      "execution_count": null,
      "outputs": [
        {
          "data": {
            "text/plain": [
              "{'A': array([[0.3],\n",
              "        [0.5],\n",
              "        [0.2]]), 'E': array([[0.75, 0.64, 0.72, 0.7 , 0.88, 0.9 ],\n",
              "        [0.25, 0.36, 0.28, 0.3 , 0.12, 0.1 ]]), 'O': array([[0.96, 0.92],\n",
              "        [0.04, 0.08]]), 'R': array([[0.25, 0.2 ],\n",
              "        [0.75, 0.8 ]]), 'S': array([[0.6],\n",
              "        [0.4]]), 'T': array([[0.48, 0.58, 0.56, 0.7 ],\n",
              "        [0.42, 0.24, 0.36, 0.21],\n",
              "        [0.1 , 0.18, 0.08, 0.09]])}"
            ]
          },
          "execution_count": 5,
          "metadata": {
            "tags": []
          },
          "output_type": "execute_result"
        }
      ]
    },
    {
      "cell_type": "code",
      "metadata": {
        "id": "6o_MhGDIBj-z"
      },
      "source": [
        "parents = reader.get_parents()\n",
        "cpd = reader.get_values()\n",
        "values = reader.get_states()"
      ],
      "execution_count": null,
      "outputs": []
    },
    {
      "cell_type": "code",
      "metadata": {
        "colab": {
          "base_uri": "https://localhost:8080/"
        },
        "id": "n2WnxrqrERe1",
        "outputId": "1b72c3e0-3abb-4bae-85b0-d7f338a729d3"
      },
      "source": [
        "variable_to_cpd = {}\n",
        "\n",
        "for variable in reader.get_variables():\n",
        "  v_parents = parents.get(variable)\n",
        "  v_values = values.get(variable)\n",
        "  v_cpd = cpd.get(variable)\n",
        "\n",
        "  cpd_dict = {}\n",
        "  if len(v_parents) == 0:\n",
        "    for i in range(len(v_cpd)):\n",
        "      if cpd_dict.get(v_values[i]) is None:\n",
        "        cpd_dict[v_values[i]] = {}\n",
        "      cpd_dict[v_values[i]][tuple()] = v_cpd[i][0]\n",
        "  else:\n",
        "    parent_values = []\n",
        "    for parent_name in v_parents:\n",
        "      parent_values.append(values[parent_name])\n",
        "\n",
        "    all_combinations = np.array(np.meshgrid(*parent_values)).T.reshape(-1, len(v_parents))\n",
        "    all_combinations = list(map(tuple, all_combinations))\n",
        "\n",
        "    for i in range(len(v_cpd)):\n",
        "      if cpd_dict.get(v_values[i]) is None:\n",
        "        cpd_dict[v_values[i]] = {}\n",
        "      for j in range(len(all_combinations)):\n",
        "        cpd_dict[v_values[i]][all_combinations[j]] = v_cpd[i][j]\n",
        "\n",
        "  variable_to_cpd[variable] = cpd_dict\n",
        "\n",
        "for v_name, cpd in variable_to_cpd.items():\n",
        "  print(\"CPD \", v_name, \": \", cpd)"
      ],
      "execution_count": null,
      "outputs": [
        {
          "name": "stdout",
          "output_type": "stream",
          "text": [
            "CPD  A :  {'young': {(): 0.3}, 'adult': {(): 0.5}, 'old': {(): 0.2}}\n",
            "CPD  S :  {'M': {(): 0.6}, 'F': {(): 0.4}}\n",
            "CPD  E :  {'high': {('young', 'M'): 0.75, ('young', 'F'): 0.64, ('adult', 'M'): 0.72, ('adult', 'F'): 0.7, ('old', 'M'): 0.88, ('old', 'F'): 0.9}, 'uni': {('young', 'M'): 0.25, ('young', 'F'): 0.36, ('adult', 'M'): 0.28, ('adult', 'F'): 0.3, ('old', 'M'): 0.12, ('old', 'F'): 0.1}}\n",
            "CPD  O :  {'emp': {('high',): 0.96, ('uni',): 0.92}, 'self': {('high',): 0.04, ('uni',): 0.08}}\n",
            "CPD  R :  {'small': {('high',): 0.25, ('uni',): 0.2}, 'big': {('high',): 0.75, ('uni',): 0.8}}\n",
            "CPD  T :  {'car': {('emp', 'small'): 0.48, ('emp', 'big'): 0.58, ('self', 'small'): 0.56, ('self', 'big'): 0.7}, 'train': {('emp', 'small'): 0.42, ('emp', 'big'): 0.24, ('self', 'small'): 0.36, ('self', 'big'): 0.21}, 'other': {('emp', 'small'): 0.1, ('emp', 'big'): 0.18, ('self', 'small'): 0.08, ('self', 'big'): 0.09}}\n"
          ]
        }
      ]
    },
    {
      "cell_type": "code",
      "metadata": {
        "id": "tWGAtImxNvbh"
      },
      "source": [
        "variables = reader.get_variables()\n",
        "values = reader.get_states()\n",
        "parents = reader.get_parents()"
      ],
      "execution_count": null,
      "outputs": []
    },
    {
      "cell_type": "code",
      "metadata": {
        "id": "yEfsL7aQuu32"
      },
      "source": [
        "def calc_probability_deprecated(event = {}):\n",
        "  for variable, value in event.items():\n",
        "    values[variable] = [value]\n",
        "  \n",
        "  values_list = []\n",
        "  for variable in variables:\n",
        "    values_list.append(values[variable])\n",
        "  \n",
        "  all_combinations = np.array(np.meshgrid(*values_list)).T.reshape(-1, len(values))\n",
        "  all_combinations = list(map(lambda x: {variables[i] : x[i] for i in range(len(values))}, all_combinations))\n",
        "\n",
        "  result = 0.0\n",
        "\n",
        "  for combination in all_combinations:\n",
        "    temp_prob = 1.0\n",
        "    for variable in variables:\n",
        "      key = []\n",
        "      for parent in parents[variable]:\n",
        "        key.append(combination[parent])\n",
        "      key = tuple(key)\n",
        "      temp_prob = temp_prob * variable_to_cpd[variable][combination[variable]][key]\n",
        "    result += temp_prob\n",
        "\n",
        "  return result"
      ],
      "execution_count": null,
      "outputs": []
    },
    {
      "cell_type": "code",
      "metadata": {
        "id": "qjXvAkGrLd3C"
      },
      "source": [
        "def dfs(fixed_values, combination, unknown_variables):\n",
        "  if len(unknown_variables) == 0:\n",
        "    prob = 1.0\n",
        "    for variable in variables:\n",
        "      key = []\n",
        "      for parent in parents[variable]:\n",
        "        key.append(combination[parent])\n",
        "      key = tuple(key)\n",
        "      prob *= variable_to_cpd[variable][combination[variable]][key]\n",
        "    return prob\n",
        "\n",
        "  unknown_var = unknown_variables.pop()\n",
        "  prob = 0.0\n",
        "  for value in fixed_values[unknown_var]:\n",
        "    combination[unknown_var] = value\n",
        "    prob += dfs(fixed_values, combination, unknown_variables)\n",
        "  \n",
        "  del combination[unknown_var]\n",
        "  unknown_variables.add(unknown_var)\n",
        "\n",
        "  return prob\n",
        "\n",
        "def calc_probability(event = {}):\n",
        "  fixed_values = values.copy()\n",
        "  for variable, value in event.items():\n",
        "    fixed_values[variable] = [value]\n",
        "\n",
        "  unknown_variables = set()\n",
        "  for variable in variables:\n",
        "    unknown_variables.add(variable)\n",
        "\n",
        "  return dfs(fixed_values, {}, unknown_variables)"
      ],
      "execution_count": null,
      "outputs": []
    },
    {
      "cell_type": "code",
      "metadata": {
        "id": "yyUOEVMbbRjQ"
      },
      "source": [
        "import numpy as np\n",
        "from collections import deque\n",
        "\n",
        "def calc_probability_sampling(event = {}, sample_count = 1000):\n",
        "  variables = reader.get_variables()\n",
        "  values = reader.get_states()\n",
        "  parents = reader.get_parents()\n",
        "\n",
        "  children = {}\n",
        "  for variable in reader.get_variables():\n",
        "    children[variable] = []\n",
        "  for v_from, v_to in reader.get_edges():\n",
        "    children[v_from].append(v_to)\n",
        "\n",
        "  combinations = []\n",
        "  for sample in range(sample_count):\n",
        "    combination = {}\n",
        "    q = deque()\n",
        "    for variable in variables:\n",
        "      if len(parents[variable]) == 0:\n",
        "        q.append(variable)\n",
        "\n",
        "    while len(q) != 0:\n",
        "      variable = q.popleft()\n",
        "\n",
        "      # print(variable)\n",
        "      key = []\n",
        "      for parent in parents[variable]:\n",
        "        key.append(combination.get(parent))\n",
        "      key = tuple(key)\n",
        "      probabilities = {k : v[key] for k, v in variable_to_cpd.get(variable).items()}\n",
        "\n",
        "      value = np.random.choice(list(probabilities.keys()), p=list(probabilities.values()))\n",
        "      combination[variable] = value\n",
        "\n",
        "      for child in children.get(variable):\n",
        "        q.append(child)\n",
        "    \n",
        "    combinations.append(combination)\n",
        "\n",
        "  n_suitable_combinations = 0\n",
        "  for combination in combinations:\n",
        "    is_suitable = True\n",
        "    for k, v in event.items():\n",
        "      if combination.get(k) != v:\n",
        "        is_suitable = False\n",
        "        break\n",
        "    if is_suitable:\n",
        "      n_suitable_combinations += 1\n",
        "\n",
        "  return n_suitable_combinations / len(combinations)"
      ],
      "execution_count": null,
      "outputs": []
    },
    {
      "cell_type": "code",
      "metadata": {
        "id": "LdKiIFzWgjTw"
      },
      "source": [
        ""
      ],
      "execution_count": null,
      "outputs": []
    },
    {
      "cell_type": "code",
      "metadata": {
        "colab": {
          "base_uri": "https://localhost:8080/"
        },
        "id": "7LE14Pe6gjsn",
        "outputId": "07bef3cd-cf85-49d2-d62e-2ab284875554"
      },
      "source": [
        "event = {'S': 'M', 'E': 'high', 'T': 'train'}\n",
        "print(calc_probability_deprecated(event))\n",
        "print(calc_probability_sampling(event, 10000))"
      ],
      "execution_count": null,
      "outputs": [
        {
          "name": "stdout",
          "output_type": "stream",
          "text": [
            "0.12944609999999998\n",
            "0.1294\n"
          ]
        }
      ]
    },
    {
      "cell_type": "code",
      "metadata": {
        "colab": {
          "base_uri": "https://localhost:8080/"
        },
        "id": "wjt3CBgwJ_Uk",
        "outputId": "2350cc85-376e-4beb-a9b2-9b967545b691"
      },
      "source": [
        "event = {'S': 'M', 'E': 'high', 'T': 'train'}\n",
        "print(calc_probability(event))\n",
        "print(calc_probability_sampling(event, 10000))"
      ],
      "execution_count": null,
      "outputs": [
        {
          "name": "stdout",
          "output_type": "stream",
          "text": [
            "0.1294461\n",
            "0.1301\n"
          ]
        }
      ]
    },
    {
      "cell_type": "code",
      "metadata": {
        "colab": {
          "base_uri": "https://localhost:8080/"
        },
        "id": "TQh0PgoaGFTB",
        "outputId": "075b14f2-c02f-4704-a805-1171c705a501"
      },
      "source": [
        "event = {'O': 'self'}\n",
        "print(calc_probability(event))\n",
        "print(calc_probability_sampling(event, 10000))"
      ],
      "execution_count": null,
      "outputs": [
        {
          "name": "stdout",
          "output_type": "stream",
          "text": [
            "0.004520339999999999\n",
            "0.0492\n"
          ]
        }
      ]
    },
    {
      "cell_type": "code",
      "metadata": {
        "colab": {
          "base_uri": "https://localhost:8080/"
        },
        "id": "MCpJFGbSGPIu",
        "outputId": "45bfb177-ee20-4bab-befa-fb092ff8aecc"
      },
      "source": [
        "event = {'R': 'big', 'A': 'adult'}\n",
        "print(calc_probability(event))\n",
        "print(calc_probability_sampling(event, 10000))"
      ],
      "execution_count": null,
      "outputs": [
        {
          "name": "stdout",
          "output_type": "stream",
          "text": [
            "0.0386856\n",
            "0.3737\n"
          ]
        }
      ]
    },
    {
      "cell_type": "code",
      "metadata": {
        "colab": {
          "background_save": true
        },
        "id": "KqJtXbFTGl1-",
        "outputId": "51eb004f-dfed-403f-96e6-e9fc5894a443"
      },
      "source": [
        "import matplotlib.pyplot as plt\n",
        "\n",
        "event = {'R': 'big', 'A': 'adult'}\n",
        "\n",
        "x = range(100, 10000, 100)\n",
        "y1 = [calc_probability_sampling(event, i) for i in x]\n",
        "y2 = [calc_probability(event) for i in x]\n",
        "plt.plot(x, y1)\n",
        "plt.plot(x, y2)\n",
        "plt.show()"
      ],
      "execution_count": null,
      "outputs": [
        {
          "data": {
            "image/png": "[encoded data removed]",
            "text/plain": [
              "<Figure size 432x288 with 1 Axes>"
            ]
          },
          "metadata": {},
          "output_type": "display_data"
        }
      ]
    }
  ]
}